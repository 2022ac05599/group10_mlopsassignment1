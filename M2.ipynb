{
  "cells": [
    {
      "cell_type": "code",
      "execution_count": 181,
      "metadata": {
        "colab": {
          "base_uri": "https://localhost:8080/"
        },
        "id": "RAIBe0RPxbLA",
        "outputId": "943cb45f-0867-4847-fe7b-c5c1509ef83a"
      },
      "outputs": [],
      "source": [
        "# from google.colab import drive\n",
        "# drive.mount('/content/drive')"
      ]
    },
    {
      "cell_type": "code",
      "execution_count": 182,
      "metadata": {
        "colab": {
          "base_uri": "https://localhost:8080/"
        },
        "id": "2c2jNxO4yBkl",
        "outputId": "1b95c681-1abd-45c2-95cb-c23e2a2f2988"
      },
      "outputs": [
        {
          "name": "stdout",
          "output_type": "stream",
          "text": [
            "/Users/swarajyabhanja/Desktop/MLOps_Assignments/group10_mlopsassignment1\n"
          ]
        }
      ],
      "source": [
        "import os\n",
        "print(os.getcwd())"
      ]
    },
    {
      "cell_type": "code",
      "execution_count": 183,
      "metadata": {
        "id": "JPTPOcdKyJeh"
      },
      "outputs": [],
      "source": [
        "import pandas as pd"
      ]
    },
    {
      "cell_type": "code",
      "execution_count": 184,
      "metadata": {
        "id": "nYEIqnUFyFwL"
      },
      "outputs": [],
      "source": [
        "dataset = pd.read_csv('/Users/swarajyabhanja/Desktop/MLOps_Assignments/insurance.csv')"
      ]
    },
    {
      "cell_type": "code",
      "execution_count": 185,
      "metadata": {
        "id": "A-TttswcyZ7d"
      },
      "outputs": [],
      "source": [
        "df= pd.DataFrame(dataset)"
      ]
    },
    {
      "cell_type": "code",
      "execution_count": 186,
      "metadata": {
        "colab": {
          "base_uri": "https://localhost:8080/",
          "height": 206
        },
        "id": "IC9E-iQZzIyO",
        "outputId": "02af7c22-e06a-4e4b-c087-b1f1b74b710f"
      },
      "outputs": [
        {
          "data": {
            "text/html": [
              "<div>\n",
              "<style scoped>\n",
              "    .dataframe tbody tr th:only-of-type {\n",
              "        vertical-align: middle;\n",
              "    }\n",
              "\n",
              "    .dataframe tbody tr th {\n",
              "        vertical-align: top;\n",
              "    }\n",
              "\n",
              "    .dataframe thead th {\n",
              "        text-align: right;\n",
              "    }\n",
              "</style>\n",
              "<table border=\"1\" class=\"dataframe\">\n",
              "  <thead>\n",
              "    <tr style=\"text-align: right;\">\n",
              "      <th></th>\n",
              "      <th>age</th>\n",
              "      <th>sex</th>\n",
              "      <th>bmi</th>\n",
              "      <th>children</th>\n",
              "      <th>smoker</th>\n",
              "      <th>region</th>\n",
              "      <th>charges</th>\n",
              "    </tr>\n",
              "  </thead>\n",
              "  <tbody>\n",
              "    <tr>\n",
              "      <th>0</th>\n",
              "      <td>19</td>\n",
              "      <td>female</td>\n",
              "      <td>27.900</td>\n",
              "      <td>0</td>\n",
              "      <td>yes</td>\n",
              "      <td>southwest</td>\n",
              "      <td>16884.92400</td>\n",
              "    </tr>\n",
              "    <tr>\n",
              "      <th>1</th>\n",
              "      <td>18</td>\n",
              "      <td>male</td>\n",
              "      <td>33.770</td>\n",
              "      <td>1</td>\n",
              "      <td>no</td>\n",
              "      <td>southeast</td>\n",
              "      <td>1725.55230</td>\n",
              "    </tr>\n",
              "    <tr>\n",
              "      <th>2</th>\n",
              "      <td>28</td>\n",
              "      <td>male</td>\n",
              "      <td>33.000</td>\n",
              "      <td>3</td>\n",
              "      <td>no</td>\n",
              "      <td>southeast</td>\n",
              "      <td>4449.46200</td>\n",
              "    </tr>\n",
              "    <tr>\n",
              "      <th>3</th>\n",
              "      <td>33</td>\n",
              "      <td>male</td>\n",
              "      <td>22.705</td>\n",
              "      <td>0</td>\n",
              "      <td>no</td>\n",
              "      <td>northwest</td>\n",
              "      <td>21984.47061</td>\n",
              "    </tr>\n",
              "    <tr>\n",
              "      <th>4</th>\n",
              "      <td>32</td>\n",
              "      <td>male</td>\n",
              "      <td>28.880</td>\n",
              "      <td>0</td>\n",
              "      <td>no</td>\n",
              "      <td>northwest</td>\n",
              "      <td>3866.85520</td>\n",
              "    </tr>\n",
              "  </tbody>\n",
              "</table>\n",
              "</div>"
            ],
            "text/plain": [
              "   age     sex     bmi  children smoker     region      charges\n",
              "0   19  female  27.900         0    yes  southwest  16884.92400\n",
              "1   18    male  33.770         1     no  southeast   1725.55230\n",
              "2   28    male  33.000         3     no  southeast   4449.46200\n",
              "3   33    male  22.705         0     no  northwest  21984.47061\n",
              "4   32    male  28.880         0     no  northwest   3866.85520"
            ]
          },
          "execution_count": 186,
          "metadata": {},
          "output_type": "execute_result"
        }
      ],
      "source": [
        "df.head()"
      ]
    },
    {
      "cell_type": "code",
      "execution_count": 187,
      "metadata": {
        "colab": {
          "base_uri": "https://localhost:8080/"
        },
        "id": "rwz5wMZawvIK",
        "outputId": "b0a1ce73-400a-4bfe-a723-8056306cc8bc"
      },
      "outputs": [
        {
          "name": "stdout",
          "output_type": "stream",
          "text": [
            "Requirement already satisfied: mlflow in /Library/Frameworks/Python.framework/Versions/3.9/lib/python3.9/site-packages (2.15.0)\n",
            "Requirement already satisfied: mlflow-skinny==2.15.0 in /Library/Frameworks/Python.framework/Versions/3.9/lib/python3.9/site-packages (from mlflow) (2.15.0)\n",
            "Requirement already satisfied: Flask<4 in /Library/Frameworks/Python.framework/Versions/3.9/lib/python3.9/site-packages (from mlflow) (2.0.1)\n",
            "Requirement already satisfied: alembic!=1.10.0,<2 in /Library/Frameworks/Python.framework/Versions/3.9/lib/python3.9/site-packages (from mlflow) (1.13.2)\n",
            "Requirement already satisfied: docker<8,>=4.0.0 in /Library/Frameworks/Python.framework/Versions/3.9/lib/python3.9/site-packages (from mlflow) (7.1.0)\n",
            "Requirement already satisfied: graphene<4 in /Library/Frameworks/Python.framework/Versions/3.9/lib/python3.9/site-packages (from mlflow) (3.3)\n",
            "Requirement already satisfied: markdown<4,>=3.3 in /Library/Frameworks/Python.framework/Versions/3.9/lib/python3.9/site-packages (from mlflow) (3.5.2)\n",
            "Requirement already satisfied: matplotlib<4 in /Library/Frameworks/Python.framework/Versions/3.9/lib/python3.9/site-packages (from mlflow) (3.7.2)\n",
            "Requirement already satisfied: numpy<2 in /Library/Frameworks/Python.framework/Versions/3.9/lib/python3.9/site-packages (from mlflow) (1.26.4)\n",
            "Requirement already satisfied: pandas<3 in /Library/Frameworks/Python.framework/Versions/3.9/lib/python3.9/site-packages (from mlflow) (1.3.1)\n",
            "Requirement already satisfied: pyarrow<16,>=4.0.0 in /Library/Frameworks/Python.framework/Versions/3.9/lib/python3.9/site-packages (from mlflow) (15.0.2)\n",
            "Requirement already satisfied: querystring-parser<2 in /Library/Frameworks/Python.framework/Versions/3.9/lib/python3.9/site-packages (from mlflow) (1.2.4)\n",
            "Requirement already satisfied: scikit-learn<2 in /Library/Frameworks/Python.framework/Versions/3.9/lib/python3.9/site-packages (from mlflow) (1.3.0)\n",
            "Requirement already satisfied: scipy<2 in /Library/Frameworks/Python.framework/Versions/3.9/lib/python3.9/site-packages (from mlflow) (1.13.1)\n",
            "Requirement already satisfied: sqlalchemy<3,>=1.4.0 in /Library/Frameworks/Python.framework/Versions/3.9/lib/python3.9/site-packages (from mlflow) (2.0.32)\n",
            "Requirement already satisfied: Jinja2<4,>=2.11 in /Library/Frameworks/Python.framework/Versions/3.9/lib/python3.9/site-packages (from mlflow) (3.1.2)\n",
            "Requirement already satisfied: gunicorn<23 in /Library/Frameworks/Python.framework/Versions/3.9/lib/python3.9/site-packages (from mlflow) (22.0.0)\n",
            "Requirement already satisfied: cachetools<6,>=5.0.0 in /Library/Frameworks/Python.framework/Versions/3.9/lib/python3.9/site-packages (from mlflow-skinny==2.15.0->mlflow) (5.3.3)\n",
            "Requirement already satisfied: click<9,>=7.0 in /Library/Frameworks/Python.framework/Versions/3.9/lib/python3.9/site-packages (from mlflow-skinny==2.15.0->mlflow) (8.1.7)\n",
            "Requirement already satisfied: cloudpickle<4 in /Library/Frameworks/Python.framework/Versions/3.9/lib/python3.9/site-packages (from mlflow-skinny==2.15.0->mlflow) (1.6.0)\n",
            "Requirement already satisfied: databricks-sdk<1,>=0.20.0 in /Library/Frameworks/Python.framework/Versions/3.9/lib/python3.9/site-packages (from mlflow-skinny==2.15.0->mlflow) (0.29.0)\n",
            "Requirement already satisfied: entrypoints<1 in /Library/Frameworks/Python.framework/Versions/3.9/lib/python3.9/site-packages (from mlflow-skinny==2.15.0->mlflow) (0.3)\n",
            "Requirement already satisfied: gitpython<4,>=3.1.9 in /Library/Frameworks/Python.framework/Versions/3.9/lib/python3.9/site-packages (from mlflow-skinny==2.15.0->mlflow) (3.1.43)\n",
            "Requirement already satisfied: importlib-metadata!=4.7.0,<8,>=3.7.0 in /Library/Frameworks/Python.framework/Versions/3.9/lib/python3.9/site-packages (from mlflow-skinny==2.15.0->mlflow) (6.1.0)\n",
            "Requirement already satisfied: opentelemetry-api<3,>=1.9.0 in /Library/Frameworks/Python.framework/Versions/3.9/lib/python3.9/site-packages (from mlflow-skinny==2.15.0->mlflow) (1.26.0)\n",
            "Requirement already satisfied: opentelemetry-sdk<3,>=1.9.0 in /Library/Frameworks/Python.framework/Versions/3.9/lib/python3.9/site-packages (from mlflow-skinny==2.15.0->mlflow) (1.26.0)\n",
            "Requirement already satisfied: packaging<25 in /Library/Frameworks/Python.framework/Versions/3.9/lib/python3.9/site-packages (from mlflow-skinny==2.15.0->mlflow) (23.0)\n",
            "Requirement already satisfied: protobuf<6,>=3.12.0 in /Library/Frameworks/Python.framework/Versions/3.9/lib/python3.9/site-packages (from mlflow-skinny==2.15.0->mlflow) (4.25.3)\n",
            "Requirement already satisfied: pytz<2025 in /Library/Frameworks/Python.framework/Versions/3.9/lib/python3.9/site-packages (from mlflow-skinny==2.15.0->mlflow) (2021.1)\n",
            "Requirement already satisfied: pyyaml<7,>=5.1 in /Library/Frameworks/Python.framework/Versions/3.9/lib/python3.9/site-packages (from mlflow-skinny==2.15.0->mlflow) (6.0)\n",
            "Requirement already satisfied: requests<3,>=2.17.3 in /Library/Frameworks/Python.framework/Versions/3.9/lib/python3.9/site-packages (from mlflow-skinny==2.15.0->mlflow) (2.32.3)\n",
            "Requirement already satisfied: sqlparse<1,>=0.4.0 in /Library/Frameworks/Python.framework/Versions/3.9/lib/python3.9/site-packages (from mlflow-skinny==2.15.0->mlflow) (0.4.1)\n",
            "Requirement already satisfied: Mako in /Library/Frameworks/Python.framework/Versions/3.9/lib/python3.9/site-packages (from alembic!=1.10.0,<2->mlflow) (1.3.5)\n",
            "Requirement already satisfied: typing-extensions>=4 in /Library/Frameworks/Python.framework/Versions/3.9/lib/python3.9/site-packages (from alembic!=1.10.0,<2->mlflow) (4.9.0)\n",
            "Requirement already satisfied: urllib3>=1.26.0 in /Library/Frameworks/Python.framework/Versions/3.9/lib/python3.9/site-packages (from docker<8,>=4.0.0->mlflow) (1.26.15)\n",
            "Requirement already satisfied: Werkzeug>=2.0 in /Library/Frameworks/Python.framework/Versions/3.9/lib/python3.9/site-packages (from Flask<4->mlflow) (2.0.1)\n",
            "Requirement already satisfied: itsdangerous>=2.0 in /Library/Frameworks/Python.framework/Versions/3.9/lib/python3.9/site-packages (from Flask<4->mlflow) (2.0.1)\n",
            "Requirement already satisfied: graphql-core<3.3,>=3.1 in /Library/Frameworks/Python.framework/Versions/3.9/lib/python3.9/site-packages (from graphene<4->mlflow) (3.2.3)\n",
            "Requirement already satisfied: graphql-relay<3.3,>=3.1 in /Library/Frameworks/Python.framework/Versions/3.9/lib/python3.9/site-packages (from graphene<4->mlflow) (3.2.0)\n",
            "Requirement already satisfied: aniso8601<10,>=8 in /Library/Frameworks/Python.framework/Versions/3.9/lib/python3.9/site-packages (from graphene<4->mlflow) (9.0.1)\n",
            "Requirement already satisfied: MarkupSafe>=2.0 in /Library/Frameworks/Python.framework/Versions/3.9/lib/python3.9/site-packages (from Jinja2<4,>=2.11->mlflow) (2.0.1)\n",
            "Requirement already satisfied: contourpy>=1.0.1 in /Library/Frameworks/Python.framework/Versions/3.9/lib/python3.9/site-packages (from matplotlib<4->mlflow) (1.1.0)\n",
            "Requirement already satisfied: cycler>=0.10 in /Library/Frameworks/Python.framework/Versions/3.9/lib/python3.9/site-packages (from matplotlib<4->mlflow) (0.10.0)\n",
            "Requirement already satisfied: fonttools>=4.22.0 in /Library/Frameworks/Python.framework/Versions/3.9/lib/python3.9/site-packages (from matplotlib<4->mlflow) (4.40.0)\n",
            "Requirement already satisfied: kiwisolver>=1.0.1 in /Library/Frameworks/Python.framework/Versions/3.9/lib/python3.9/site-packages (from matplotlib<4->mlflow) (1.3.1)\n",
            "Requirement already satisfied: pillow>=6.2.0 in /Library/Frameworks/Python.framework/Versions/3.9/lib/python3.9/site-packages (from matplotlib<4->mlflow) (10.3.0)\n",
            "Requirement already satisfied: pyparsing<3.1,>=2.3.1 in /Library/Frameworks/Python.framework/Versions/3.9/lib/python3.9/site-packages (from matplotlib<4->mlflow) (3.0.9)\n",
            "Requirement already satisfied: python-dateutil>=2.7 in /Library/Frameworks/Python.framework/Versions/3.9/lib/python3.9/site-packages (from matplotlib<4->mlflow) (2.8.2)\n",
            "Requirement already satisfied: importlib-resources>=3.2.0 in /Library/Frameworks/Python.framework/Versions/3.9/lib/python3.9/site-packages (from matplotlib<4->mlflow) (5.12.0)\n",
            "Requirement already satisfied: six in /Library/Frameworks/Python.framework/Versions/3.9/lib/python3.9/site-packages (from querystring-parser<2->mlflow) (1.16.0)\n",
            "Requirement already satisfied: joblib>=1.1.1 in /Library/Frameworks/Python.framework/Versions/3.9/lib/python3.9/site-packages (from scikit-learn<2->mlflow) (1.3.1)\n",
            "Requirement already satisfied: threadpoolctl>=2.0.0 in /Library/Frameworks/Python.framework/Versions/3.9/lib/python3.9/site-packages (from scikit-learn<2->mlflow) (3.1.0)\n",
            "Requirement already satisfied: greenlet!=0.4.17 in /Library/Frameworks/Python.framework/Versions/3.9/lib/python3.9/site-packages (from sqlalchemy<3,>=1.4.0->mlflow) (3.0.3)\n",
            "Requirement already satisfied: google-auth~=2.0 in /Library/Frameworks/Python.framework/Versions/3.9/lib/python3.9/site-packages (from databricks-sdk<1,>=0.20.0->mlflow-skinny==2.15.0->mlflow) (2.28.1)\n",
            "Requirement already satisfied: gitdb<5,>=4.0.1 in /Library/Frameworks/Python.framework/Versions/3.9/lib/python3.9/site-packages (from gitpython<4,>=3.1.9->mlflow-skinny==2.15.0->mlflow) (4.0.11)\n",
            "Requirement already satisfied: zipp>=0.5 in /Library/Frameworks/Python.framework/Versions/3.9/lib/python3.9/site-packages (from importlib-metadata!=4.7.0,<8,>=3.7.0->mlflow-skinny==2.15.0->mlflow) (3.15.0)\n",
            "Requirement already satisfied: deprecated>=1.2.6 in /Library/Frameworks/Python.framework/Versions/3.9/lib/python3.9/site-packages (from opentelemetry-api<3,>=1.9.0->mlflow-skinny==2.15.0->mlflow) (1.2.14)\n",
            "Requirement already satisfied: opentelemetry-semantic-conventions==0.47b0 in /Library/Frameworks/Python.framework/Versions/3.9/lib/python3.9/site-packages (from opentelemetry-sdk<3,>=1.9.0->mlflow-skinny==2.15.0->mlflow) (0.47b0)\n",
            "Requirement already satisfied: charset-normalizer<4,>=2 in /Library/Frameworks/Python.framework/Versions/3.9/lib/python3.9/site-packages (from requests<3,>=2.17.3->mlflow-skinny==2.15.0->mlflow) (3.1.0)\n",
            "Requirement already satisfied: idna<4,>=2.5 in /Library/Frameworks/Python.framework/Versions/3.9/lib/python3.9/site-packages (from requests<3,>=2.17.3->mlflow-skinny==2.15.0->mlflow) (3.4)\n",
            "Requirement already satisfied: certifi>=2017.4.17 in /Library/Frameworks/Python.framework/Versions/3.9/lib/python3.9/site-packages (from requests<3,>=2.17.3->mlflow-skinny==2.15.0->mlflow) (2021.5.30)\n",
            "Requirement already satisfied: wrapt<2,>=1.10 in /Library/Frameworks/Python.framework/Versions/3.9/lib/python3.9/site-packages (from deprecated>=1.2.6->opentelemetry-api<3,>=1.9.0->mlflow-skinny==2.15.0->mlflow) (1.14.1)\n",
            "Requirement already satisfied: smmap<6,>=3.0.1 in /Library/Frameworks/Python.framework/Versions/3.9/lib/python3.9/site-packages (from gitdb<5,>=4.0.1->gitpython<4,>=3.1.9->mlflow-skinny==2.15.0->mlflow) (5.0.1)\n",
            "Requirement already satisfied: pyasn1-modules>=0.2.1 in /Library/Frameworks/Python.framework/Versions/3.9/lib/python3.9/site-packages (from google-auth~=2.0->databricks-sdk<1,>=0.20.0->mlflow-skinny==2.15.0->mlflow) (0.3.0)\n",
            "Requirement already satisfied: rsa<5,>=3.1.4 in /Library/Frameworks/Python.framework/Versions/3.9/lib/python3.9/site-packages (from google-auth~=2.0->databricks-sdk<1,>=0.20.0->mlflow-skinny==2.15.0->mlflow) (4.9)\n",
            "Requirement already satisfied: pyasn1<0.6.0,>=0.4.6 in /Library/Frameworks/Python.framework/Versions/3.9/lib/python3.9/site-packages (from pyasn1-modules>=0.2.1->google-auth~=2.0->databricks-sdk<1,>=0.20.0->mlflow-skinny==2.15.0->mlflow) (0.5.1)\n",
            "Note: you may need to restart the kernel to use updated packages.\n"
          ]
        }
      ],
      "source": [
        "pip install mlflow"
      ]
    },
    {
      "cell_type": "code",
      "execution_count": 188,
      "metadata": {
        "id": "6rDtQ_CDxO9T"
      },
      "outputs": [],
      "source": [
        "import mlflow\n",
        "import mlflow.sklearn\n",
        "from sklearn.ensemble import RandomForestRegressor\n",
        "from sklearn.metrics import mean_squared_error\n",
        "from sklearn.model_selection import train_test_split\n",
        "\n",
        "from sklearn.model_selection import train_test_split\n",
        "from sklearn.preprocessing import LabelEncoder, StandardScaler\n",
        "from sklearn.linear_model import Ridge, Lasso"
      ]
    },
    {
      "cell_type": "code",
      "execution_count": 189,
      "metadata": {
        "id": "hd548DdhzzgK"
      },
      "outputs": [],
      "source": [
        "import joblib\n",
        "import warnings"
      ]
    },
    {
      "cell_type": "code",
      "execution_count": 190,
      "metadata": {
        "id": "Eiz01CJdz7yZ"
      },
      "outputs": [],
      "source": [
        "warnings.filterwarnings('ignore')"
      ]
    },
    {
      "cell_type": "code",
      "execution_count": 191,
      "metadata": {
        "id": "ONld0mEHzeKB"
      },
      "outputs": [],
      "source": [
        "le = LabelEncoder()\n",
        "df['sex'] = le.fit_transform(df['sex'])\n",
        "df['smoker'] = le.fit_transform(df['smoker'])\n",
        "df['region'] = le.fit_transform(df['region'])\n",
        "\n",
        "# Independent and dependent variables\n",
        "x = df[[\"age\", \"bmi\", \"children\", \"sex\", \"smoker\", \"region\"]]\n",
        "y = df['charges']"
      ]
    },
    {
      "cell_type": "code",
      "execution_count": 192,
      "metadata": {
        "id": "v-1voYFG0mVf"
      },
      "outputs": [],
      "source": [
        "# Split the dataset\n",
        "x_train, x_test, y_train, y_test = train_test_split(x, y, test_size=0.3, random_state=0)"
      ]
    },
    {
      "cell_type": "code",
      "execution_count": 193,
      "metadata": {
        "id": "sqw3xBEN0xub"
      },
      "outputs": [],
      "source": [
        "# Train model\n",
        "def train_model(n_estimators, max_depth):\n",
        "    with mlflow.start_run():\n",
        "        model = RandomForestRegressor(n_estimators=n_estimators, max_depth=max_depth)\n",
        "        model.fit(x_train, y_train)\n",
        "        predictions = model.predict(x_test)\n",
        "\n",
        "        # Log parameters\n",
        "        mlflow.log_param(\"n_estimators\", n_estimators)\n",
        "        mlflow.log_param(\"max_depth\", max_depth)\n",
        "\n",
        "        # Log metrics\n",
        "        mse = mean_squared_error(y_test, predictions)\n",
        "        mlflow.log_metric(\"mse\", mse)\n",
        "\n",
        "        # Log model\n",
        "        mlflow.sklearn.log_model(model, \"model\")\n",
        "        print(f\"Model with n_estimators={n_estimators} and max_depth={max_depth} logged.\")\n"
      ]
    },
    {
      "cell_type": "code",
      "execution_count": 194,
      "metadata": {
        "colab": {
          "base_uri": "https://localhost:8080/"
        },
        "id": "6Ej6DhoL07Er",
        "outputId": "56defbf3-3f5e-417c-9ec1-83fbb2f34d97"
      },
      "outputs": [
        {
          "name": "stderr",
          "output_type": "stream",
          "text": [
            "2024/08/07 14:30:02 WARNING mlflow.models.model: Input example should be provided to infer model signature if the model signature is not provided when logging the model.\n"
          ]
        },
        {
          "name": "stdout",
          "output_type": "stream",
          "text": [
            "Model with n_estimators=100 and max_depth=3 logged.\n"
          ]
        }
      ],
      "source": [
        "# Run experiments 1\n",
        "train_model(100, 3)"
      ]
    },
    {
      "cell_type": "code",
      "execution_count": 195,
      "metadata": {
        "colab": {
          "base_uri": "https://localhost:8080/"
        },
        "id": "uWKLacut1oIM",
        "outputId": "d3e42f3f-62db-4b8d-c05e-bde16bcb5eaa"
      },
      "outputs": [
        {
          "name": "stderr",
          "output_type": "stream",
          "text": [
            "2024/08/07 14:30:07 WARNING mlflow.models.model: Input example should be provided to infer model signature if the model signature is not provided when logging the model.\n"
          ]
        },
        {
          "name": "stdout",
          "output_type": "stream",
          "text": [
            "Model with n_estimators=200 and max_depth=5 logged.\n"
          ]
        }
      ],
      "source": [
        "# Run experiments 2\n",
        "train_model(200, 5)"
      ]
    },
    {
      "cell_type": "code",
      "execution_count": 196,
      "metadata": {
        "colab": {
          "base_uri": "https://localhost:8080/"
        },
        "id": "cKYi4mkZ1tuw",
        "outputId": "0d921df8-deb0-4c93-b871-79cca56f231e"
      },
      "outputs": [
        {
          "name": "stderr",
          "output_type": "stream",
          "text": [
            "2024/08/07 14:30:12 WARNING mlflow.models.model: Input example should be provided to infer model signature if the model signature is not provided when logging the model.\n"
          ]
        },
        {
          "name": "stdout",
          "output_type": "stream",
          "text": [
            "Model with n_estimators=300 and max_depth=7 logged.\n"
          ]
        }
      ],
      "source": [
        "# Run experiments 3\n",
        "train_model(300, 7)\n"
      ]
    },
    {
      "cell_type": "markdown",
      "metadata": {
        "id": "DxogaWQ_2R_l"
      },
      "source": [
        "View experiment logs:\n",
        "use the MLflow UI."
      ]
    },
    {
      "cell_type": "code",
      "execution_count": 197,
      "metadata": {
        "colab": {
          "base_uri": "https://localhost:8080/"
        },
        "id": "0Gbbff8b16_0",
        "outputId": "a91b6d81-47ad-4f71-caf7-2d3f1a0a0c24"
      },
      "outputs": [
        {
          "name": "stderr",
          "output_type": "stream",
          "text": [
            "[2024-08-07 14:30:15 +0530] [73772] [INFO] Starting gunicorn 22.0.0\n",
            "[2024-08-07 14:30:15 +0530] [73772] [ERROR] Connection in use: ('127.0.0.1', 5000)\n",
            "[2024-08-07 14:30:15 +0530] [73772] [ERROR] Retrying in 1 second.\n",
            "[2024-08-07 14:30:16 +0530] [73772] [ERROR] Connection in use: ('127.0.0.1', 5000)\n",
            "[2024-08-07 14:30:16 +0530] [73772] [ERROR] Retrying in 1 second.\n",
            "[2024-08-07 14:30:17 +0530] [73772] [ERROR] Connection in use: ('127.0.0.1', 5000)\n",
            "[2024-08-07 14:30:17 +0530] [73772] [ERROR] Retrying in 1 second.\n",
            "[2024-08-07 14:30:18 +0530] [73772] [ERROR] Connection in use: ('127.0.0.1', 5000)\n",
            "[2024-08-07 14:30:18 +0530] [73772] [ERROR] Retrying in 1 second.\n",
            "[2024-08-07 14:30:19 +0530] [73772] [ERROR] Connection in use: ('127.0.0.1', 5000)\n",
            "[2024-08-07 14:30:19 +0530] [73772] [ERROR] Retrying in 1 second.\n",
            "[2024-08-07 14:30:20 +0530] [73772] [ERROR] Can't connect to ('127.0.0.1', 5000)\n",
            "Running the mlflow server failed. Please see the logs above for details.\n"
          ]
        },
        {
          "data": {
            "text/plain": [
              "CompletedProcess(args=['mlflow', 'ui', '--port', '5000'], returncode=1)"
            ]
          },
          "execution_count": 197,
          "metadata": {},
          "output_type": "execute_result"
        }
      ],
      "source": [
        "import subprocess\n",
        "\n",
        "subprocess.run([\"mlflow\", \"ui\", \"--port\", \"5000\"])"
      ]
    },
    {
      "cell_type": "markdown",
      "metadata": {
        "id": "E6z3RBJx2Xss"
      },
      "source": [
        "Data Versioning with DVC"
      ]
    },
    {
      "cell_type": "code",
      "execution_count": 198,
      "metadata": {
        "colab": {
          "base_uri": "https://localhost:8080/"
        },
        "id": "Hj0c52YV2U62",
        "outputId": "c0cabca3-6148-4ed2-deae-c1aa51e5dee4"
      },
      "outputs": [
        {
          "name": "stdout",
          "output_type": "stream",
          "text": [
            "Requirement already satisfied: dvc in /Library/Frameworks/Python.framework/Versions/3.9/lib/python3.9/site-packages (3.53.1)\n",
            "Requirement already satisfied: attrs>=22.2.0 in /Library/Frameworks/Python.framework/Versions/3.9/lib/python3.9/site-packages (from dvc) (24.1.0)\n",
            "Requirement already satisfied: celery in /Library/Frameworks/Python.framework/Versions/3.9/lib/python3.9/site-packages (from dvc) (5.4.0)\n",
            "Requirement already satisfied: colorama>=0.3.9 in /Library/Frameworks/Python.framework/Versions/3.9/lib/python3.9/site-packages (from dvc) (0.4.6)\n",
            "Requirement already satisfied: configobj>=5.0.6 in /Library/Frameworks/Python.framework/Versions/3.9/lib/python3.9/site-packages (from dvc) (5.0.8)\n",
            "Requirement already satisfied: distro>=1.3 in /Library/Frameworks/Python.framework/Versions/3.9/lib/python3.9/site-packages (from dvc) (1.9.0)\n",
            "Requirement already satisfied: dpath<3,>=2.1.0 in /Library/Frameworks/Python.framework/Versions/3.9/lib/python3.9/site-packages (from dvc) (2.2.0)\n",
            "Requirement already satisfied: dulwich in /Library/Frameworks/Python.framework/Versions/3.9/lib/python3.9/site-packages (from dvc) (0.22.1)\n",
            "Requirement already satisfied: dvc-data<3.16,>=3.15 in /Library/Frameworks/Python.framework/Versions/3.9/lib/python3.9/site-packages (from dvc) (3.15.1)\n",
            "Requirement already satisfied: dvc-http>=2.29.0 in /Library/Frameworks/Python.framework/Versions/3.9/lib/python3.9/site-packages (from dvc) (2.32.0)\n",
            "Requirement already satisfied: dvc-objects in /Library/Frameworks/Python.framework/Versions/3.9/lib/python3.9/site-packages (from dvc) (5.1.0)\n",
            "Requirement already satisfied: dvc-render<2,>=1.0.1 in /Library/Frameworks/Python.framework/Versions/3.9/lib/python3.9/site-packages (from dvc) (1.0.2)\n",
            "Requirement already satisfied: dvc-studio-client<1,>=0.21 in /Library/Frameworks/Python.framework/Versions/3.9/lib/python3.9/site-packages (from dvc) (0.21.0)\n",
            "Requirement already satisfied: dvc-task<1,>=0.3.0 in /Library/Frameworks/Python.framework/Versions/3.9/lib/python3.9/site-packages (from dvc) (0.4.0)\n",
            "Requirement already satisfied: flatten-dict<1,>=0.4.1 in /Library/Frameworks/Python.framework/Versions/3.9/lib/python3.9/site-packages (from dvc) (0.4.2)\n",
            "Requirement already satisfied: flufl.lock<9,>=8.1.0 in /Library/Frameworks/Python.framework/Versions/3.9/lib/python3.9/site-packages (from dvc) (8.1.0)\n",
            "Requirement already satisfied: fsspec>=2024.2.0 in /Library/Frameworks/Python.framework/Versions/3.9/lib/python3.9/site-packages (from dvc) (2024.5.0)\n",
            "Requirement already satisfied: funcy>=1.14 in /Library/Frameworks/Python.framework/Versions/3.9/lib/python3.9/site-packages (from dvc) (2.0)\n",
            "Requirement already satisfied: grandalf<1,>=0.7 in /Library/Frameworks/Python.framework/Versions/3.9/lib/python3.9/site-packages (from dvc) (0.8)\n",
            "Requirement already satisfied: gto<2,>=1.6.0 in /Library/Frameworks/Python.framework/Versions/3.9/lib/python3.9/site-packages (from dvc) (1.7.1)\n",
            "Requirement already satisfied: hydra-core>=1.1 in /Library/Frameworks/Python.framework/Versions/3.9/lib/python3.9/site-packages (from dvc) (1.3.2)\n",
            "Requirement already satisfied: iterative-telemetry>=0.0.7 in /Library/Frameworks/Python.framework/Versions/3.9/lib/python3.9/site-packages (from dvc) (0.0.8)\n",
            "Requirement already satisfied: kombu in /Library/Frameworks/Python.framework/Versions/3.9/lib/python3.9/site-packages (from dvc) (5.3.7)\n",
            "Requirement already satisfied: networkx>=2.5 in /Library/Frameworks/Python.framework/Versions/3.9/lib/python3.9/site-packages (from dvc) (3.2.1)\n",
            "Requirement already satisfied: omegaconf in /Library/Frameworks/Python.framework/Versions/3.9/lib/python3.9/site-packages (from dvc) (2.3.0)\n",
            "Requirement already satisfied: packaging>=19 in /Library/Frameworks/Python.framework/Versions/3.9/lib/python3.9/site-packages (from dvc) (23.0)\n",
            "Requirement already satisfied: pathspec>=0.10.3 in /Library/Frameworks/Python.framework/Versions/3.9/lib/python3.9/site-packages (from dvc) (0.12.1)\n",
            "Requirement already satisfied: platformdirs<4,>=3.1.1 in /Library/Frameworks/Python.framework/Versions/3.9/lib/python3.9/site-packages (from dvc) (3.2.0)\n",
            "Requirement already satisfied: psutil>=5.8 in /Library/Frameworks/Python.framework/Versions/3.9/lib/python3.9/site-packages (from dvc) (5.9.4)\n",
            "Requirement already satisfied: pydot>=1.2.4 in /Library/Frameworks/Python.framework/Versions/3.9/lib/python3.9/site-packages (from dvc) (3.0.1)\n",
            "Requirement already satisfied: pygtrie>=2.3.2 in /Library/Frameworks/Python.framework/Versions/3.9/lib/python3.9/site-packages (from dvc) (2.5.0)\n",
            "Requirement already satisfied: pyparsing>=2.4.7 in /Library/Frameworks/Python.framework/Versions/3.9/lib/python3.9/site-packages (from dvc) (3.0.9)\n",
            "Requirement already satisfied: requests>=2.22 in /Library/Frameworks/Python.framework/Versions/3.9/lib/python3.9/site-packages (from dvc) (2.32.3)\n",
            "Requirement already satisfied: rich>=12 in /Library/Frameworks/Python.framework/Versions/3.9/lib/python3.9/site-packages (from dvc) (13.7.1)\n",
            "Requirement already satisfied: ruamel.yaml>=0.17.11 in /Library/Frameworks/Python.framework/Versions/3.9/lib/python3.9/site-packages (from dvc) (0.18.6)\n",
            "Requirement already satisfied: scmrepo<4,>=3.3.4 in /Library/Frameworks/Python.framework/Versions/3.9/lib/python3.9/site-packages (from dvc) (3.3.7)\n",
            "Requirement already satisfied: shortuuid>=0.5 in /Library/Frameworks/Python.framework/Versions/3.9/lib/python3.9/site-packages (from dvc) (1.0.13)\n",
            "Requirement already satisfied: shtab<2,>=1.3.4 in /Library/Frameworks/Python.framework/Versions/3.9/lib/python3.9/site-packages (from dvc) (1.7.1)\n",
            "Requirement already satisfied: tabulate>=0.8.7 in /Library/Frameworks/Python.framework/Versions/3.9/lib/python3.9/site-packages (from dvc) (0.9.0)\n",
            "Requirement already satisfied: tomlkit>=0.11.1 in /Library/Frameworks/Python.framework/Versions/3.9/lib/python3.9/site-packages (from dvc) (0.13.0)\n",
            "Requirement already satisfied: tqdm<5,>=4.63.1 in /Library/Frameworks/Python.framework/Versions/3.9/lib/python3.9/site-packages (from dvc) (4.66.4)\n",
            "Requirement already satisfied: voluptuous>=0.11.7 in /Library/Frameworks/Python.framework/Versions/3.9/lib/python3.9/site-packages (from dvc) (0.15.2)\n",
            "Requirement already satisfied: zc.lockfile>=1.2.1 in /Library/Frameworks/Python.framework/Versions/3.9/lib/python3.9/site-packages (from dvc) (3.0.post1)\n",
            "Requirement already satisfied: six in /Library/Frameworks/Python.framework/Versions/3.9/lib/python3.9/site-packages (from configobj>=5.0.6->dvc) (1.16.0)\n",
            "Requirement already satisfied: dictdiffer>=0.8.1 in /Library/Frameworks/Python.framework/Versions/3.9/lib/python3.9/site-packages (from dvc-data<3.16,>=3.15->dvc) (0.9.0)\n",
            "Requirement already satisfied: diskcache>=5.2.1 in /Library/Frameworks/Python.framework/Versions/3.9/lib/python3.9/site-packages (from dvc-data<3.16,>=3.15->dvc) (5.6.3)\n",
            "Requirement already satisfied: sqltrie<1,>=0.11.0 in /Library/Frameworks/Python.framework/Versions/3.9/lib/python3.9/site-packages (from dvc-data<3.16,>=3.15->dvc) (0.11.1)\n",
            "Requirement already satisfied: aiohttp-retry>=2.5.0 in /Library/Frameworks/Python.framework/Versions/3.9/lib/python3.9/site-packages (from dvc-http>=2.29.0->dvc) (2.8.3)\n",
            "Requirement already satisfied: billiard<5.0,>=4.2.0 in /Library/Frameworks/Python.framework/Versions/3.9/lib/python3.9/site-packages (from celery->dvc) (4.2.0)\n",
            "Requirement already satisfied: vine<6.0,>=5.1.0 in /Library/Frameworks/Python.framework/Versions/3.9/lib/python3.9/site-packages (from celery->dvc) (5.1.0)\n",
            "Requirement already satisfied: click<9.0,>=8.1.2 in /Library/Frameworks/Python.framework/Versions/3.9/lib/python3.9/site-packages (from celery->dvc) (8.1.7)\n",
            "Requirement already satisfied: click-didyoumean>=0.3.0 in /Library/Frameworks/Python.framework/Versions/3.9/lib/python3.9/site-packages (from celery->dvc) (0.3.1)\n",
            "Requirement already satisfied: click-repl>=0.2.0 in /Library/Frameworks/Python.framework/Versions/3.9/lib/python3.9/site-packages (from celery->dvc) (0.3.0)\n",
            "Requirement already satisfied: click-plugins>=1.1.1 in /Library/Frameworks/Python.framework/Versions/3.9/lib/python3.9/site-packages (from celery->dvc) (1.1.1)\n",
            "Requirement already satisfied: tzdata>=2022.7 in /Library/Frameworks/Python.framework/Versions/3.9/lib/python3.9/site-packages (from celery->dvc) (2024.1)\n",
            "Requirement already satisfied: python-dateutil>=2.8.2 in /Library/Frameworks/Python.framework/Versions/3.9/lib/python3.9/site-packages (from celery->dvc) (2.8.2)\n",
            "Requirement already satisfied: atpublic in /Library/Frameworks/Python.framework/Versions/3.9/lib/python3.9/site-packages (from flufl.lock<9,>=8.1.0->dvc) (5.0)\n",
            "Requirement already satisfied: typer>=0.4.1 in /Library/Frameworks/Python.framework/Versions/3.9/lib/python3.9/site-packages (from gto<2,>=1.6.0->dvc) (0.12.3)\n",
            "Requirement already satisfied: pydantic!=2.0.0,<3,>=1.9.0 in /Library/Frameworks/Python.framework/Versions/3.9/lib/python3.9/site-packages (from gto<2,>=1.6.0->dvc) (2.5.3)\n",
            "Requirement already satisfied: semver>=2.13.0 in /Library/Frameworks/Python.framework/Versions/3.9/lib/python3.9/site-packages (from gto<2,>=1.6.0->dvc) (3.0.2)\n",
            "Requirement already satisfied: entrypoints in /Library/Frameworks/Python.framework/Versions/3.9/lib/python3.9/site-packages (from gto<2,>=1.6.0->dvc) (0.3)\n",
            "Requirement already satisfied: antlr4-python3-runtime==4.9.* in /Library/Frameworks/Python.framework/Versions/3.9/lib/python3.9/site-packages (from hydra-core>=1.1->dvc) (4.9.3)\n",
            "Requirement already satisfied: appdirs in /Library/Frameworks/Python.framework/Versions/3.9/lib/python3.9/site-packages (from iterative-telemetry>=0.0.7->dvc) (1.4.4)\n",
            "Requirement already satisfied: filelock in /Library/Frameworks/Python.framework/Versions/3.9/lib/python3.9/site-packages (from iterative-telemetry>=0.0.7->dvc) (3.0.12)\n",
            "Requirement already satisfied: amqp<6.0.0,>=5.1.1 in /Library/Frameworks/Python.framework/Versions/3.9/lib/python3.9/site-packages (from kombu->dvc) (5.2.0)\n",
            "Requirement already satisfied: typing-extensions in /Library/Frameworks/Python.framework/Versions/3.9/lib/python3.9/site-packages (from kombu->dvc) (4.9.0)\n",
            "Requirement already satisfied: PyYAML>=5.1.0 in /Library/Frameworks/Python.framework/Versions/3.9/lib/python3.9/site-packages (from omegaconf->dvc) (6.0)\n",
            "Requirement already satisfied: charset-normalizer<4,>=2 in /Library/Frameworks/Python.framework/Versions/3.9/lib/python3.9/site-packages (from requests>=2.22->dvc) (3.1.0)\n",
            "Requirement already satisfied: idna<4,>=2.5 in /Library/Frameworks/Python.framework/Versions/3.9/lib/python3.9/site-packages (from requests>=2.22->dvc) (3.4)\n",
            "Requirement already satisfied: urllib3<3,>=1.21.1 in /Library/Frameworks/Python.framework/Versions/3.9/lib/python3.9/site-packages (from requests>=2.22->dvc) (1.26.15)\n",
            "Requirement already satisfied: certifi>=2017.4.17 in /Library/Frameworks/Python.framework/Versions/3.9/lib/python3.9/site-packages (from requests>=2.22->dvc) (2021.5.30)\n",
            "Requirement already satisfied: markdown-it-py>=2.2.0 in /Library/Frameworks/Python.framework/Versions/3.9/lib/python3.9/site-packages (from rich>=12->dvc) (3.0.0)\n",
            "Requirement already satisfied: pygments<3.0.0,>=2.13.0 in /Library/Frameworks/Python.framework/Versions/3.9/lib/python3.9/site-packages (from rich>=12->dvc) (2.17.2)\n",
            "Requirement already satisfied: ruamel.yaml.clib>=0.2.7 in /Library/Frameworks/Python.framework/Versions/3.9/lib/python3.9/site-packages (from ruamel.yaml>=0.17.11->dvc) (0.2.8)\n",
            "Requirement already satisfied: gitpython>3 in /Library/Frameworks/Python.framework/Versions/3.9/lib/python3.9/site-packages (from scmrepo<4,>=3.3.4->dvc) (3.1.43)\n",
            "Requirement already satisfied: pygit2>=1.14.0 in /Library/Frameworks/Python.framework/Versions/3.9/lib/python3.9/site-packages (from scmrepo<4,>=3.3.4->dvc) (1.15.1)\n",
            "Requirement already satisfied: asyncssh<3,>=2.13.1 in /Library/Frameworks/Python.framework/Versions/3.9/lib/python3.9/site-packages (from scmrepo<4,>=3.3.4->dvc) (2.15.0)\n",
            "Requirement already satisfied: setuptools in /Library/Frameworks/Python.framework/Versions/3.9/lib/python3.9/site-packages (from zc.lockfile>=1.2.1->dvc) (56.0.0)\n",
            "Requirement already satisfied: aiohttp in /Library/Frameworks/Python.framework/Versions/3.9/lib/python3.9/site-packages (from aiohttp-retry>=2.5.0->dvc-http>=2.29.0->dvc) (3.9.5)\n",
            "Requirement already satisfied: cryptography>=39.0 in /Library/Frameworks/Python.framework/Versions/3.9/lib/python3.9/site-packages (from asyncssh<3,>=2.13.1->scmrepo<4,>=3.3.4->dvc) (43.0.0)\n",
            "Requirement already satisfied: prompt-toolkit>=3.0.36 in /Library/Frameworks/Python.framework/Versions/3.9/lib/python3.9/site-packages (from click-repl>=0.2.0->celery->dvc) (3.0.47)\n",
            "Requirement already satisfied: gitdb<5,>=4.0.1 in /Library/Frameworks/Python.framework/Versions/3.9/lib/python3.9/site-packages (from gitpython>3->scmrepo<4,>=3.3.4->dvc) (4.0.11)\n",
            "Requirement already satisfied: mdurl~=0.1 in /Library/Frameworks/Python.framework/Versions/3.9/lib/python3.9/site-packages (from markdown-it-py>=2.2.0->rich>=12->dvc) (0.1.2)\n",
            "Requirement already satisfied: annotated-types>=0.4.0 in /Library/Frameworks/Python.framework/Versions/3.9/lib/python3.9/site-packages (from pydantic!=2.0.0,<3,>=1.9.0->gto<2,>=1.6.0->dvc) (0.6.0)\n",
            "Requirement already satisfied: pydantic-core==2.14.6 in /Library/Frameworks/Python.framework/Versions/3.9/lib/python3.9/site-packages (from pydantic!=2.0.0,<3,>=1.9.0->gto<2,>=1.6.0->dvc) (2.14.6)\n",
            "Requirement already satisfied: cffi>=1.16.0 in /Library/Frameworks/Python.framework/Versions/3.9/lib/python3.9/site-packages (from pygit2>=1.14.0->scmrepo<4,>=3.3.4->dvc) (1.16.0)\n",
            "Requirement already satisfied: orjson in /Library/Frameworks/Python.framework/Versions/3.9/lib/python3.9/site-packages (from sqltrie<1,>=0.11.0->dvc-data<3.16,>=3.15->dvc) (3.10.6)\n",
            "Requirement already satisfied: shellingham>=1.3.0 in /Library/Frameworks/Python.framework/Versions/3.9/lib/python3.9/site-packages (from typer>=0.4.1->gto<2,>=1.6.0->dvc) (1.5.4)\n",
            "Requirement already satisfied: aiosignal>=1.1.2 in /Library/Frameworks/Python.framework/Versions/3.9/lib/python3.9/site-packages (from aiohttp->aiohttp-retry>=2.5.0->dvc-http>=2.29.0->dvc) (1.3.1)\n",
            "Requirement already satisfied: frozenlist>=1.1.1 in /Library/Frameworks/Python.framework/Versions/3.9/lib/python3.9/site-packages (from aiohttp->aiohttp-retry>=2.5.0->dvc-http>=2.29.0->dvc) (1.4.1)\n",
            "Requirement already satisfied: multidict<7.0,>=4.5 in /Library/Frameworks/Python.framework/Versions/3.9/lib/python3.9/site-packages (from aiohttp->aiohttp-retry>=2.5.0->dvc-http>=2.29.0->dvc) (6.0.5)\n",
            "Requirement already satisfied: yarl<2.0,>=1.0 in /Library/Frameworks/Python.framework/Versions/3.9/lib/python3.9/site-packages (from aiohttp->aiohttp-retry>=2.5.0->dvc-http>=2.29.0->dvc) (1.9.4)\n",
            "Requirement already satisfied: async-timeout<5.0,>=4.0 in /Library/Frameworks/Python.framework/Versions/3.9/lib/python3.9/site-packages (from aiohttp->aiohttp-retry>=2.5.0->dvc-http>=2.29.0->dvc) (4.0.3)\n",
            "Requirement already satisfied: pycparser in /Library/Frameworks/Python.framework/Versions/3.9/lib/python3.9/site-packages (from cffi>=1.16.0->pygit2>=1.14.0->scmrepo<4,>=3.3.4->dvc) (2.20)\n",
            "Requirement already satisfied: smmap<6,>=3.0.1 in /Library/Frameworks/Python.framework/Versions/3.9/lib/python3.9/site-packages (from gitdb<5,>=4.0.1->gitpython>3->scmrepo<4,>=3.3.4->dvc) (5.0.1)\n",
            "Requirement already satisfied: wcwidth in /Library/Frameworks/Python.framework/Versions/3.9/lib/python3.9/site-packages (from prompt-toolkit>=3.0.36->click-repl>=0.2.0->celery->dvc) (0.2.5)\n",
            "Note: you may need to restart the kernel to use updated packages.\n"
          ]
        }
      ],
      "source": [
        "pip install dvc"
      ]
    },
    {
      "cell_type": "markdown",
      "metadata": {},
      "source": [
        "Initialize a GIT repository:"
      ]
    },
    {
      "cell_type": "code",
      "execution_count": 199,
      "metadata": {},
      "outputs": [
        {
          "name": "stdout",
          "output_type": "stream",
          "text": [
            "Reinitialized existing Git repository in /Users/swarajyabhanja/Desktop/MLOps_Assignments/group10_mlopsassignment1/.git/\n"
          ]
        },
        {
          "data": {
            "text/plain": [
              "CompletedProcess(args=['git', 'init'], returncode=0)"
            ]
          },
          "execution_count": 199,
          "metadata": {},
          "output_type": "execute_result"
        }
      ],
      "source": [
        "import subprocess\n",
        "\n",
        "subprocess.run([\"git\", \"init\"])"
      ]
    },
    {
      "cell_type": "code",
      "execution_count": 201,
      "metadata": {},
      "outputs": [],
      "source": [
        "def run_command(command):\n",
        "    try:\n",
        "        result = subprocess.run(command, check=True, text=True, capture_output=True)\n",
        "        print(f\"Command '{' '.join(command)}' executed successfully.\")\n",
        "        print(result.stdout)\n",
        "    except subprocess.CalledProcessError as e:\n",
        "        print(f\"Error executing command '{' '.join(command)}':\")\n",
        "        print(e.stderr)\n"
      ]
    },
    {
      "cell_type": "code",
      "execution_count": 202,
      "metadata": {},
      "outputs": [
        {
          "name": "stdout",
          "output_type": "stream",
          "text": [
            "Command 'git clone https://github.com/2022ac05599/group10_mlopsassignment1.git' executed successfully.\n",
            "\n",
            "Command 'git branch -M main' executed successfully.\n",
            "\n"
          ]
        }
      ],
      "source": [
        "# Step 1: Clone the repository\n",
        "run_command([\"git\", \"clone\", \"https://github.com/2022ac05599/group10_mlopsassignment1.git\"])\n",
        "\n",
        "# Change directory to the cloned repository\n",
        "repo_name = \"group10_mlopsassignment1\"  # The name of the directory after cloning\n",
        "os.chdir(repo_name)\n",
        "\n",
        "# Step 2: Rename the current branch to 'main'\n",
        "run_command([\"git\", \"branch\", \"-M\", \"main\"])"
      ]
    },
    {
      "cell_type": "markdown",
      "metadata": {},
      "source": [
        "Initialize a DVC repository"
      ]
    },
    {
      "cell_type": "code",
      "execution_count": 203,
      "metadata": {},
      "outputs": [
        {
          "name": "stdout",
          "output_type": "stream",
          "text": [
            "Initialized DVC repository.\n",
            "\n",
            "You can now commit the changes to git.\n",
            "\n",
            "+---------------------------------------------------------------------+\n",
            "|                                                                     |\n",
            "|        DVC has enabled anonymous aggregate usage analytics.         |\n",
            "|     Read the analytics documentation (and how to opt-out) here:     |\n",
            "|             <https://dvc.org/doc/user-guide/analytics>              |\n",
            "|                                                                     |\n",
            "+---------------------------------------------------------------------+\n",
            "\n",
            "What's next?\n",
            "------------\n",
            "- Check out the documentation: <https://dvc.org/doc>\n",
            "- Get help and share ideas: <https://dvc.org/chat>\n",
            "- Star us on GitHub: <https://github.com/iterative/dvc>\n"
          ]
        },
        {
          "data": {
            "text/plain": [
              "CompletedProcess(args=['dvc', 'init'], returncode=0)"
            ]
          },
          "execution_count": 203,
          "metadata": {},
          "output_type": "execute_result"
        }
      ],
      "source": [
        "import subprocess\n",
        "\n",
        "subprocess.run([\"dvc\", \"init\"])"
      ]
    },
    {
      "cell_type": "markdown",
      "metadata": {},
      "source": [
        "Add your dataset to DVC"
      ]
    },
    {
      "cell_type": "code",
      "execution_count": 204,
      "metadata": {},
      "outputs": [],
      "source": [
        "import os\n",
        "\n",
        "os.makedirs('data', exist_ok=True)\n",
        "\n",
        "df.to_csv('data/dataset.csv', index=False)\n"
      ]
    },
    {
      "cell_type": "markdown",
      "metadata": {},
      "source": [
        "Add the dataset to DVC:"
      ]
    },
    {
      "cell_type": "code",
      "execution_count": 205,
      "metadata": {},
      "outputs": [
        {
          "name": "stderr",
          "output_type": "stream",
          "text": [
            "\u001b[?25l⠋ Checking graph\n",
            "\u001b[?25h\r"
          ]
        },
        {
          "name": "stdout",
          "output_type": "stream",
          "text": [
            "\n",
            "To track the changes with git, run:\n",
            "\n",
            "\tgit add data/dataset.csv.dvc data/.gitignore\n",
            "\n",
            "To enable auto staging, run:\n",
            "\n",
            "\tdvc config core.autostage true\n"
          ]
        },
        {
          "data": {
            "text/plain": [
              "CompletedProcess(args=['dvc', 'add', 'data/dataset.csv'], returncode=0)"
            ]
          },
          "execution_count": 205,
          "metadata": {},
          "output_type": "execute_result"
        }
      ],
      "source": [
        "subprocess.run([\"dvc\", \"add\", \"data/dataset.csv\"])\n"
      ]
    },
    {
      "cell_type": "markdown",
      "metadata": {},
      "source": [
        "This will create a .dvc file for your dataset, which should be tracked with Git."
      ]
    },
    {
      "cell_type": "code",
      "execution_count": 206,
      "metadata": {},
      "outputs": [
        {
          "name": "stdout",
          "output_type": "stream",
          "text": [
            "[main (root-commit) 2254a3b] Add dataset to DVC\n",
            " 3 files changed, 6 insertions(+)\n",
            " create mode 100644 .dvc/.gitignore\n",
            " create mode 100644 .dvc/config\n",
            " create mode 100644 .dvcignore\n"
          ]
        },
        {
          "name": "stderr",
          "output_type": "stream",
          "text": [
            "fatal: pathspec '.gitignore' did not match any files\n"
          ]
        },
        {
          "data": {
            "text/plain": [
              "CompletedProcess(args=['git', 'commit', '-m', 'Add dataset to DVC'], returncode=0)"
            ]
          },
          "execution_count": 206,
          "metadata": {},
          "output_type": "execute_result"
        }
      ],
      "source": [
        "# Add the .dvc file and .gitignore to Git\n",
        "subprocess.run([\"git\", \"add\", \"data/dataset.csv.dvc\", \".gitignore\"])\n",
        "\n",
        "# Commit the changes\n",
        "subprocess.run([\"git\", \"commit\", \"-m\", \"Add dataset to DVC\"])\n"
      ]
    },
    {
      "cell_type": "markdown",
      "metadata": {},
      "source": [
        "Make changes to the dataset:\n",
        "Modify data/dataset.csv to create a new version."
      ]
    },
    {
      "cell_type": "code",
      "execution_count": 207,
      "metadata": {},
      "outputs": [
        {
          "name": "stdout",
          "output_type": "stream",
          "text": [
            "Command 'git push -u origin main' executed successfully.\n",
            "Branch 'main' set up to track remote branch 'main' from 'origin'.\n",
            "\n"
          ]
        }
      ],
      "source": [
        "# Step 3: Push the 'main' branch to the remote repository\n",
        "run_command([\"git\", \"push\", \"-u\", \"origin\", \"main\"])"
      ]
    },
    {
      "cell_type": "code",
      "execution_count": 208,
      "metadata": {},
      "outputs": [
        {
          "data": {
            "text/html": [
              "<div>\n",
              "<style scoped>\n",
              "    .dataframe tbody tr th:only-of-type {\n",
              "        vertical-align: middle;\n",
              "    }\n",
              "\n",
              "    .dataframe tbody tr th {\n",
              "        vertical-align: top;\n",
              "    }\n",
              "\n",
              "    .dataframe thead th {\n",
              "        text-align: right;\n",
              "    }\n",
              "</style>\n",
              "<table border=\"1\" class=\"dataframe\">\n",
              "  <thead>\n",
              "    <tr style=\"text-align: right;\">\n",
              "      <th></th>\n",
              "      <th>age</th>\n",
              "      <th>sex</th>\n",
              "      <th>bmi</th>\n",
              "      <th>children</th>\n",
              "      <th>smoker</th>\n",
              "      <th>region</th>\n",
              "      <th>charges</th>\n",
              "    </tr>\n",
              "  </thead>\n",
              "  <tbody>\n",
              "    <tr>\n",
              "      <th>0</th>\n",
              "      <td>19</td>\n",
              "      <td>0</td>\n",
              "      <td>37.000</td>\n",
              "      <td>0</td>\n",
              "      <td>1</td>\n",
              "      <td>3</td>\n",
              "      <td>16884.92400</td>\n",
              "    </tr>\n",
              "    <tr>\n",
              "      <th>1</th>\n",
              "      <td>18</td>\n",
              "      <td>1</td>\n",
              "      <td>33.770</td>\n",
              "      <td>1</td>\n",
              "      <td>0</td>\n",
              "      <td>2</td>\n",
              "      <td>1725.55230</td>\n",
              "    </tr>\n",
              "    <tr>\n",
              "      <th>2</th>\n",
              "      <td>28</td>\n",
              "      <td>1</td>\n",
              "      <td>33.000</td>\n",
              "      <td>3</td>\n",
              "      <td>0</td>\n",
              "      <td>2</td>\n",
              "      <td>4449.46200</td>\n",
              "    </tr>\n",
              "    <tr>\n",
              "      <th>3</th>\n",
              "      <td>33</td>\n",
              "      <td>1</td>\n",
              "      <td>22.705</td>\n",
              "      <td>0</td>\n",
              "      <td>0</td>\n",
              "      <td>1</td>\n",
              "      <td>21984.47061</td>\n",
              "    </tr>\n",
              "    <tr>\n",
              "      <th>4</th>\n",
              "      <td>32</td>\n",
              "      <td>1</td>\n",
              "      <td>28.880</td>\n",
              "      <td>0</td>\n",
              "      <td>0</td>\n",
              "      <td>1</td>\n",
              "      <td>3866.85520</td>\n",
              "    </tr>\n",
              "  </tbody>\n",
              "</table>\n",
              "</div>"
            ],
            "text/plain": [
              "   age  sex     bmi  children  smoker  region      charges\n",
              "0   19    0  37.000         0       1       3  16884.92400\n",
              "1   18    1  33.770         1       0       2   1725.55230\n",
              "2   28    1  33.000         3       0       2   4449.46200\n",
              "3   33    1  22.705         0       0       1  21984.47061\n",
              "4   32    1  28.880         0       0       1   3866.85520"
            ]
          },
          "execution_count": 208,
          "metadata": {},
          "output_type": "execute_result"
        }
      ],
      "source": [
        "# Update the dataset\n",
        "df.iloc[0, 2] = 37.000\n",
        "df.head()\n"
      ]
    },
    {
      "cell_type": "markdown",
      "metadata": {},
      "source": [
        "Modify data/dataset.csv to create a new version."
      ]
    },
    {
      "cell_type": "code",
      "execution_count": 209,
      "metadata": {},
      "outputs": [],
      "source": [
        "df.to_csv('data/dataset.csv', index=False)"
      ]
    },
    {
      "cell_type": "markdown",
      "metadata": {},
      "source": [
        "Add the new version to DVC:"
      ]
    },
    {
      "cell_type": "code",
      "execution_count": 210,
      "metadata": {},
      "outputs": [
        {
          "name": "stderr",
          "output_type": "stream",
          "text": [
            "\u001b[?25l⠋ Checking graph\n",
            "\u001b[?25h\r"
          ]
        },
        {
          "name": "stdout",
          "output_type": "stream",
          "text": [
            "\n",
            "To track the changes with git, run:\n",
            "\n",
            "\tgit add data/dataset.csv.dvc\n",
            "\n",
            "To enable auto staging, run:\n",
            "\n",
            "\tdvc config core.autostage true\n"
          ]
        },
        {
          "data": {
            "text/plain": [
              "CompletedProcess(args=['dvc', 'add', 'data/dataset.csv'], returncode=0)"
            ]
          },
          "execution_count": 210,
          "metadata": {},
          "output_type": "execute_result"
        }
      ],
      "source": [
        "# Add the updated dataset to DVC\n",
        "subprocess.run([\"dvc\", \"add\", \"data/dataset.csv\"])\n"
      ]
    },
    {
      "cell_type": "code",
      "execution_count": 211,
      "metadata": {},
      "outputs": [
        {
          "data": {
            "text/plain": [
              "CompletedProcess(args=['git', 'add', 'data/dataset.csv.dvc'], returncode=0)"
            ]
          },
          "execution_count": 211,
          "metadata": {},
          "output_type": "execute_result"
        }
      ],
      "source": [
        "# Add the .dvc file to Git\n",
        "subprocess.run([\"git\", \"add\", \"data/dataset.csv.dvc\"])\n",
        "\n"
      ]
    },
    {
      "cell_type": "code",
      "execution_count": 212,
      "metadata": {},
      "outputs": [
        {
          "name": "stdout",
          "output_type": "stream",
          "text": [
            "[main 01f3130] Update dataset to new version\n",
            " 1 file changed, 5 insertions(+)\n",
            " create mode 100644 data/dataset.csv.dvc\n"
          ]
        },
        {
          "data": {
            "text/plain": [
              "CompletedProcess(args=['git', 'commit', '-m', 'Update dataset to new version'], returncode=0)"
            ]
          },
          "execution_count": 212,
          "metadata": {},
          "output_type": "execute_result"
        }
      ],
      "source": [
        "# Commit the changes to Git\n",
        "subprocess.run([\"git\", \"commit\", \"-m\", \"Update dataset to new version\"])"
      ]
    },
    {
      "cell_type": "code",
      "execution_count": 213,
      "metadata": {},
      "outputs": [
        {
          "name": "stdout",
          "output_type": "stream",
          "text": [
            "Command 'git push -u origin main' executed successfully.\n",
            "Branch 'main' set up to track remote branch 'main' from 'origin'.\n",
            "\n"
          ]
        }
      ],
      "source": [
        "# Step 3: Push the 'main' branch to the remote repository\n",
        "run_command([\"git\", \"push\", \"-u\", \"origin\", \"main\"])"
      ]
    },
    {
      "cell_type": "markdown",
      "metadata": {},
      "source": [
        "Revert to a previous version:"
      ]
    },
    {
      "cell_type": "code",
      "execution_count": 214,
      "metadata": {},
      "outputs": [
        {
          "name": "stderr",
          "output_type": "stream",
          "text": [
            "error: pathspec 'data/dataset.csv.dvc' did not match any file(s) known to git\n"
          ]
        },
        {
          "data": {
            "text/plain": [
              "CompletedProcess(args=['git', 'checkout', 'HEAD^1', 'data/dataset.csv.dvc'], returncode=1)"
            ]
          },
          "execution_count": 214,
          "metadata": {},
          "output_type": "execute_result"
        }
      ],
      "source": [
        "# Checkout the previous version of the .dvc file\n",
        "subprocess.run([\"git\", \"checkout\", \"HEAD^1\", \"data/dataset.csv.dvc\"])\n"
      ]
    },
    {
      "cell_type": "code",
      "execution_count": 215,
      "metadata": {},
      "outputs": [
        {
          "data": {
            "text/plain": [
              "CompletedProcess(args=['dvc', 'checkout'], returncode=0)"
            ]
          },
          "execution_count": 215,
          "metadata": {},
          "output_type": "execute_result"
        }
      ],
      "source": [
        "\n",
        "# Use DVC to checkout the previous version of the dataset\n",
        "subprocess.run([\"dvc\", \"checkout\"])"
      ]
    },
    {
      "cell_type": "code",
      "execution_count": 216,
      "metadata": {},
      "outputs": [
        {
          "name": "stdout",
          "output_type": "stream",
          "text": [
            "01f3130 Update dataset to new version\n",
            "2254a3b Add dataset to DVC\n",
            "\n"
          ]
        }
      ],
      "source": [
        "# Run the git log command\n",
        "result = subprocess.run([\"git\", \"log\", \"--oneline\"], capture_output=True, text=True)\n",
        "\n",
        "# Print the output\n",
        "print(result.stdout)"
      ]
    },
    {
      "cell_type": "markdown",
      "metadata": {},
      "source": [
        "MLflow Experiment Logs:"
      ]
    },
    {
      "cell_type": "code",
      "execution_count": 221,
      "metadata": {},
      "outputs": [],
      "source": [
        "# Path where you want to store the mlruns directory\n",
        "mlruns_path = 'file:///Users/swarajyabhanja/Desktop/MLOps_Assignments/mlruns'\n"
      ]
    },
    {
      "cell_type": "code",
      "execution_count": 223,
      "metadata": {},
      "outputs": [
        {
          "name": "stderr",
          "output_type": "stream",
          "text": [
            "[2024-08-07 14:41:12 +0530] [74029] [INFO] Starting gunicorn 22.0.0\n",
            "[2024-08-07 14:41:12 +0530] [74029] [ERROR] Connection in use: ('127.0.0.1', 5000)\n",
            "[2024-08-07 14:41:12 +0530] [74029] [ERROR] Retrying in 1 second.\n",
            "[2024-08-07 14:41:13 +0530] [74029] [ERROR] Connection in use: ('127.0.0.1', 5000)\n",
            "[2024-08-07 14:41:13 +0530] [74029] [ERROR] Retrying in 1 second.\n",
            "[2024-08-07 14:41:14 +0530] [74029] [ERROR] Connection in use: ('127.0.0.1', 5000)\n",
            "[2024-08-07 14:41:14 +0530] [74029] [ERROR] Retrying in 1 second.\n",
            "[2024-08-07 14:41:15 +0530] [74029] [ERROR] Connection in use: ('127.0.0.1', 5000)\n",
            "[2024-08-07 14:41:15 +0530] [74029] [ERROR] Retrying in 1 second.\n",
            "[2024-08-07 14:41:16 +0530] [74029] [ERROR] Connection in use: ('127.0.0.1', 5000)\n",
            "[2024-08-07 14:41:16 +0530] [74029] [ERROR] Retrying in 1 second.\n",
            "[2024-08-07 14:41:17 +0530] [74029] [ERROR] Can't connect to ('127.0.0.1', 5000)\n",
            "Running the mlflow server failed. Please see the logs above for details.\n"
          ]
        },
        {
          "data": {
            "text/plain": [
              "CompletedProcess(args=['mlflow', 'ui', '--backend-store-uri', 'file:///Users/swarajyabhanja/Desktop/MLOps_Assignments/mlruns'], returncode=1)"
            ]
          },
          "execution_count": 223,
          "metadata": {},
          "output_type": "execute_result"
        }
      ],
      "source": [
        "# Start the MLflow UI\n",
        "subprocess.run([\"mlflow\", \"ui\", \"--backend-store-uri\", mlruns_path])"
      ]
    }
  ],
  "metadata": {
    "colab": {
      "provenance": []
    },
    "kernelspec": {
      "display_name": "Python 3",
      "name": "python3"
    },
    "language_info": {
      "codemirror_mode": {
        "name": "ipython",
        "version": 3
      },
      "file_extension": ".py",
      "mimetype": "text/x-python",
      "name": "python",
      "nbconvert_exporter": "python",
      "pygments_lexer": "ipython3",
      "version": "3.9.6"
    }
  },
  "nbformat": 4,
  "nbformat_minor": 0
}
